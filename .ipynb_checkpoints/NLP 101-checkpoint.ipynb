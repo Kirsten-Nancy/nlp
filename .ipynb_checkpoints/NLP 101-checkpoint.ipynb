{
 "cells": [
  {
   "cell_type": "code",
   "execution_count": 24,
   "id": "26857c3d",
   "metadata": {
    "scrolled": false
   },
   "outputs": [
    {
     "ename": "ImportError",
     "evalue": "cannot import name 'PortStemmer' from 'nltk.stem.porter' (/Users/korir/.local/share/virtualenvs/nlp-kkgapb9t/lib/python3.11/site-packages/nltk/stem/porter.py)",
     "output_type": "error",
     "traceback": [
      "\u001b[0;31m---------------------------------------------------------------------------\u001b[0m",
      "\u001b[0;31mImportError\u001b[0m                               Traceback (most recent call last)",
      "Cell \u001b[0;32mIn[24], line 5\u001b[0m\n\u001b[1;32m      2\u001b[0m \u001b[38;5;66;03m# nltk.download()\u001b[39;00m\n\u001b[1;32m      3\u001b[0m \u001b[38;5;66;03m# from nltk.stem import PortStemmer\u001b[39;00m\n\u001b[1;32m      4\u001b[0m \u001b[38;5;28;01mfrom\u001b[39;00m \u001b[38;5;21;01mnltk\u001b[39;00m\u001b[38;5;21;01m.\u001b[39;00m\u001b[38;5;21;01mstem\u001b[39;00m \u001b[38;5;28;01mimport\u001b[39;00m \u001b[38;5;241m*\u001b[39m\n\u001b[0;32m----> 5\u001b[0m \u001b[38;5;28;01mfrom\u001b[39;00m \u001b[38;5;21;01mnltk\u001b[39;00m\u001b[38;5;21;01m.\u001b[39;00m\u001b[38;5;21;01mstem\u001b[39;00m\u001b[38;5;21;01m.\u001b[39;00m\u001b[38;5;21;01mporter\u001b[39;00m \u001b[38;5;28;01mimport\u001b[39;00m PortStemmer\n\u001b[1;32m      6\u001b[0m \u001b[38;5;28;01mfrom\u001b[39;00m \u001b[38;5;21;01mnltk\u001b[39;00m\u001b[38;5;21;01m.\u001b[39;00m\u001b[38;5;21;01mcorpus\u001b[39;00m \u001b[38;5;28;01mimport\u001b[39;00m stopwords\n",
      "\u001b[0;31mImportError\u001b[0m: cannot import name 'PortStemmer' from 'nltk.stem.porter' (/Users/korir/.local/share/virtualenvs/nlp-kkgapb9t/lib/python3.11/site-packages/nltk/stem/porter.py)"
     ]
    }
   ],
   "source": [
    "import nltk \n",
    "# nltk.download()\n",
    "# from nltk.stem import PortStemmer\n",
    "from nltk.stem import *\n",
    "# from nltk.stem.porter import PortStemmer\n",
    "from nltk.corpus import stopwords\n",
    "from nltk.stem import PorterStemmer"
   ]
  },
  {
   "cell_type": "code",
   "execution_count": null,
   "id": "3de2c7f7",
   "metadata": {},
   "outputs": [],
   "source": [
    "paragraph = \"\"\"A very comprehensive, detailed and easy/fun-to-read introductory book \n",
    "on NLP that is ideal for an undergraduate (or beginner) level. Many fundamental concepts \n",
    "are explained with minimal mathematics with the focus on developing intuition on the how \n",
    "and why of things. This approach will appeal to many readers who are looking for a first book\n",
    "on NLP and want to know the details of the underlying concepts. Plus, the easy-to-digest\n",
    "explanations will help readers retain what they learn for the long term. NLP applications\n",
    "have come very far from search engines and document sorting tools, understandably the author needs\n",
    "to leave some details of the implementation. The good thing is – these have been stated clearly; therefore,\n",
    "readers are well informed of such choices. This book misses talking about transformers that have revolutionised \n",
    "NLP in the last few years – something to include in a subsequent edition. Overall, this book helps build \n",
    "a good foundation that can be further developed-upon by diving into more advanced books.\"\"\""
   ]
  },
  {
   "cell_type": "code",
   "execution_count": null,
   "id": "cd416988",
   "metadata": {},
   "outputs": [],
   "source": [
    "sentences = nltk.sent_tokenize(paragraph)"
   ]
  },
  {
   "cell_type": "code",
   "execution_count": null,
   "id": "64c70298",
   "metadata": {},
   "outputs": [],
   "source": [
    "sentences"
   ]
  },
  {
   "cell_type": "code",
   "execution_count": null,
   "id": "751c7a5b",
   "metadata": {},
   "outputs": [],
   "source": [
    "words = nltk.word_tokenize(paragraph)\n",
    "words"
   ]
  },
  {
   "cell_type": "code",
   "execution_count": 23,
   "id": "8a635ed8",
   "metadata": {},
   "outputs": [
    {
     "ename": "NameError",
     "evalue": "name 'PortStemmer' is not defined",
     "output_type": "error",
     "traceback": [
      "\u001b[0;31m---------------------------------------------------------------------------\u001b[0m",
      "\u001b[0;31mNameError\u001b[0m                                 Traceback (most recent call last)",
      "Cell \u001b[0;32mIn[23], line 1\u001b[0m\n\u001b[0;32m----> 1\u001b[0m stemmer \u001b[38;5;241m=\u001b[39m \u001b[43mPortStemmer\u001b[49m()\n\u001b[1;32m      2\u001b[0m stemmer\n",
      "\u001b[0;31mNameError\u001b[0m: name 'PortStemmer' is not defined"
     ]
    }
   ],
   "source": [
    "stemmer = PortStemmer()\n",
    "stemmer"
   ]
  },
  {
   "cell_type": "code",
   "execution_count": null,
   "id": "3b002379",
   "metadata": {},
   "outputs": [],
   "source": []
  }
 ],
 "metadata": {
  "kernelspec": {
   "display_name": "Python 3 (ipykernel)",
   "language": "python",
   "name": "python3"
  },
  "language_info": {
   "codemirror_mode": {
    "name": "ipython",
    "version": 3
   },
   "file_extension": ".py",
   "mimetype": "text/x-python",
   "name": "python",
   "nbconvert_exporter": "python",
   "pygments_lexer": "ipython3",
   "version": "3.11.2"
  }
 },
 "nbformat": 4,
 "nbformat_minor": 5
}
